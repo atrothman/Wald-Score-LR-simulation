{
 "cells": [
  {
   "cell_type": "code",
   "execution_count": 1,
   "metadata": {},
   "outputs": [],
   "source": [
    "######################\n",
    "## Import libraries ##\n",
    "######################\n",
    "import numpy as np\n",
    "import pandas as pd\n",
    "np.random.seed(123456789)\n",
    "import statsmodels.api as sm\n",
    "import statsmodels.formula.api as smf\n",
    "from scipy import stats"
   ]
  },
  {
   "cell_type": "code",
   "execution_count": 2,
   "metadata": {},
   "outputs": [],
   "source": [
    "##################################\n",
    "## function to simulate dataset ##\n",
    "##################################\n",
    "def simulate_df(n=200, seed=123456):\n",
    "    np.random.seed(seed)\n",
    "    ## specify dataframe\n",
    "    df = pd.DataFrame()\n",
    "    df['A'] = np.random.choice(int(n/2)*[0] + int(n/2)*[1], size=n, replace=False)\n",
    "\n",
    "    ## specify variables L1 through L6\n",
    "    L1_split = 0.52\n",
    "    L2_split = 0.23\n",
    "    L3_split = 0.38\n",
    "    df['L1'] = np.random.choice([0, 1], size=n, replace=True, p=[L1_split, (1-L1_split)])\n",
    "    df['L2'] = np.random.choice([0, 1], size=n, replace=True, p=[L2_split, (1-L2_split)])\n",
    "    df['L3'] = np.random.choice([0, 1], size=n, replace=True, p=[L3_split, (1-L3_split)])\n",
    "    df['L4'] = np.random.normal(0, 1, df.shape[0])\n",
    "    df['L5'] = np.random.normal(0, 0.75, df.shape[0])\n",
    "    df['L6'] = np.random.normal(0, 2, df.shape[0])\n",
    "    \n",
    "    df_A0 = df.copy()\n",
    "    df_A0['A'] = 0\n",
    "    df_A1 = df.copy()\n",
    "    df_A1['A'] = 1\n",
    "    \n",
    "    theta_0 = -0.5\n",
    "    theta_1 = 2.1\n",
    "    theta_2 = 0.28\n",
    "    theta_3 = 0.42\n",
    "    theta_4 = 0.32\n",
    "    theta_5 = -0.15\n",
    "    theta_6 = 0.12\n",
    "    theta_7 = -0.29\n",
    "    \n",
    "    df['Y'] = theta_0 + (theta_1*df['A']) + (theta_2*df['L1']) + (theta_3*df['L2']) + (theta_4*df['L3']) + (theta_5*df['L4']) + (theta_6*df['L5']) + (theta_7*df['L6']) + np.random.normal(0, 1, df.shape[0])\n",
    "    model_adjusted = smf.ols('Y ~ A + L1 + L2 + L3 + L4 + L5 + L6', data=df).fit()\n",
    "    print(model_adjusted.summary())\n",
    "    \n",
    "    Y = df[['Y']]\n",
    "    X = df.drop(['Y'], axis=1)\n",
    "    X_labels = list(X.columns)\n",
    "    X['intercept'] = 1\n",
    "    X = X[['intercept'] + X_labels]\n",
    "    \n",
    "    return(df, Y, X)"
   ]
  },
  {
   "cell_type": "code",
   "execution_count": 3,
   "metadata": {},
   "outputs": [],
   "source": [
    "#####################################\n",
    "## function to calculate Wald Test ##\n",
    "#####################################\n",
    "def wald_test(Y, X):\n",
    "\n",
    "    df = pd.DataFrame()\n",
    "    df['coeff'] = X.columns\n",
    "    df['chi-square statisitic'] = None\n",
    "    df['p-value'] = None\n",
    "    \n",
    "    n = X.shape[0]\n",
    "    g = np.linalg.solve(np.dot(X.T, X), np.eye(X.shape[1])).dot(X.T).dot(Y)\n",
    "    Y_hat = np.dot(X, g)\n",
    "    sigma_squared = (1/(n-X.shape[1]))*((Y-Y_hat)**2).sum().values[0]\n",
    "    g_variance = sigma_squared * np.linalg.solve(np.dot(X.T, X), np.eye(X.shape[1]))\n",
    "    \n",
    "    \n",
    "    for i in range(0, X.shape[1]):\n",
    "        J_g_null = np.zeros(X.shape[1]).reshape(1, X.shape[1])\n",
    "        J_g_null[0, i] = 1\n",
    "        \n",
    "        denom_term = np.dot(J_g_null, g_variance).dot(J_g_null.T)\n",
    "        denom_term = np.linalg.solve(denom_term, np.eye(denom_term.shape[1]))\n",
    "        \n",
    "        W = g[i, 0] * denom_term * g[i, 0]\n",
    "        df.loc[i, 'chi-square statisitic'] = W[0,0]\n",
    "        df.loc[i, 'p-value'] = stats.chi2.sf(W[0,0] , 1)\n",
    "        \n",
    "        del J_g_null, denom_term, W\n",
    "            \n",
    "    return(df)"
   ]
  },
  {
   "cell_type": "code",
   "execution_count": 4,
   "metadata": {},
   "outputs": [],
   "source": [
    "######################################\n",
    "## function to calculate Score Test ##\n",
    "######################################\n",
    "def score_test(Y, X):\n",
    "    \n",
    "    df = pd.DataFrame()\n",
    "    df['coeff'] = X.columns\n",
    "    df['chi-square statisitic'] = None\n",
    "    df['p-value'] = None\n",
    "    \n",
    "    n = X.shape[0]\n",
    "    g = np.linalg.solve(np.dot(X.T, X), np.eye(X.shape[1])).dot(X.T).dot(Y)\n",
    "    Y_hat = np.dot(X, g)\n",
    "    sigma_squared = (1/(n-X.shape[1]))*((Y-Y_hat)**2).sum().values[0]\n",
    "    \n",
    "    for i in range(0, df.shape[0]):\n",
    "        X_sub = X.drop([X.columns[i]], axis=1)\n",
    "        OLS_estimator = np.linalg.inv(np.dot(X_sub.T, X_sub)).dot(X_sub.T).dot(Y)\n",
    "        Beta = np.zeros((X.shape[1], 1))\n",
    "        Beta[0:i, 0] = OLS_estimator[0:i, 0]\n",
    "        Beta[i+1:, 0] = OLS_estimator[i:, 0]\n",
    "        score = np.dot(X.T, Y) - np.dot(X.T, X).dot(Beta)\n",
    "        Fisher_Information = (1/sigma_squared) * np.dot(X.T, X)\n",
    "        test_statistic = np.dot(score.T, np.linalg.inv(Fisher_Information)).dot(score)\n",
    "        p_value = 1 - stats.chi2.cdf(test_statistic , 1)\n",
    "        df.loc[i, 'chi-square statisitic'] = test_statistic[0][0]\n",
    "        df.loc[i, 'p-value'] = p_value[0][0]\n",
    "        del X_sub, OLS_estimator, Beta, score, Fisher_Information, test_statistic, p_value\n",
    "    \n",
    "    return(df)"
   ]
  },
  {
   "cell_type": "code",
   "execution_count": 5,
   "metadata": {},
   "outputs": [],
   "source": [
    "#################################################\n",
    "## function to calculate Likelihood Ratio Test ##\n",
    "#################################################\n",
    "def LR_test(Y, X):\n",
    "    df = pd.DataFrame()\n",
    "    df['coeff'] = X.columns\n",
    "    df['chi-square statisitic'] = None\n",
    "    df['p-value'] = None\n",
    "    \n",
    "    Beta_fm = np.linalg.solve(np.dot(X.T, X), np.eye(X.shape[1])).dot(X.T).dot(Y)\n",
    "    LR_fm = -(1/2)*np.dot((Y - np.dot(X, Beta_fm)).T, (Y - np.dot(X, Beta_fm)))[0][0]\n",
    "    for i in range(0, X.shape[1]):\n",
    "        X_sub = X.drop([X.columns[i]], axis=1)\n",
    "        Beta_nm = np.linalg.solve(np.dot(X_sub.T, X_sub), np.eye(X_sub.shape[1])).dot(X_sub.T).dot(Y)\n",
    "        LR_nm = -(1/2)*np.dot((Y - np.dot(X_sub, Beta_nm)).T, (Y - np.dot(X_sub, Beta_nm)))[0][0]\n",
    "        df.loc[i, 'chi-square statisitic'] = 2*(LR_fm - LR_nm)\n",
    "        df.loc[i, 'p-value'] = 1 - stats.chi2.cdf(df.loc[i, 'chi-square statisitic'] , 1)\n",
    "        del X_sub, Beta_nm, LR_nm\n",
    "    \n",
    "    return(df)"
   ]
  },
  {
   "cell_type": "code",
   "execution_count": 6,
   "metadata": {},
   "outputs": [
    {
     "name": "stdout",
     "output_type": "stream",
     "text": [
      "                            OLS Regression Results                            \n",
      "==============================================================================\n",
      "Dep. Variable:                      Y   R-squared:                       0.539\n",
      "Model:                            OLS   Adj. R-squared:                  0.491\n",
      "Method:                 Least Squares   F-statistic:                     11.35\n",
      "Date:                Sat, 25 Sep 2021   Prob (F-statistic):           1.95e-09\n",
      "Time:                        01:03:23   Log-Likelihood:                -103.93\n",
      "No. Observations:                  76   AIC:                             223.9\n",
      "Df Residuals:                      68   BIC:                             242.5\n",
      "Df Model:                           7                                         \n",
      "Covariance Type:            nonrobust                                         \n",
      "==============================================================================\n",
      "                 coef    std err          t      P>|t|      [0.025      0.975]\n",
      "------------------------------------------------------------------------------\n",
      "Intercept     -0.2301      0.353     -0.652      0.517      -0.935       0.474\n",
      "A              1.7127      0.243      7.050      0.000       1.228       2.198\n",
      "L1             0.2778      0.236      1.176      0.244      -0.194       0.749\n",
      "L2             0.4329      0.297      1.457      0.150      -0.160       1.026\n",
      "L3             0.3260      0.238      1.372      0.175      -0.148       0.800\n",
      "L4            -0.2282      0.136     -1.682      0.097      -0.499       0.043\n",
      "L5             0.1123      0.163      0.691      0.492      -0.212       0.437\n",
      "L6            -0.2196      0.073     -3.022      0.004      -0.365      -0.075\n",
      "==============================================================================\n",
      "Omnibus:                        3.151   Durbin-Watson:                   2.003\n",
      "Prob(Omnibus):                  0.207   Jarque-Bera (JB):                2.005\n",
      "Skew:                           0.173   Prob(JB):                        0.367\n",
      "Kurtosis:                       2.284   Cond. No.                         6.47\n",
      "==============================================================================\n",
      "\n",
      "Warnings:\n",
      "[1] Standard Errors assume that the covariance matrix of the errors is correctly specified.\n"
     ]
    }
   ],
   "source": [
    "###########################################################################\n",
    "## return simulated dataset with \"statsmodels\" linear regression results ##\n",
    "###########################################################################\n",
    "df, Y, X = simulate_df(n=76, seed=1234)"
   ]
  },
  {
   "cell_type": "code",
   "execution_count": 7,
   "metadata": {},
   "outputs": [
    {
     "name": "stdout",
     "output_type": "stream",
     "text": [
      "       coeff chi-square statisitic      p-value\n",
      "0  intercept              0.425016     0.514445\n",
      "1          A                49.701  1.79058e-12\n",
      "2         L1               1.38249     0.239678\n",
      "3         L2               2.12259     0.145141\n",
      "4         L3               1.88262     0.170037\n",
      "5         L4               2.82937    0.0925545\n",
      "6         L5               0.47681     0.489871\n",
      "7         L6               9.13208   0.00251167\n"
     ]
    }
   ],
   "source": [
    "##############################\n",
    "## return Wald Test results ##\n",
    "##############################\n",
    "wald_test_df = wald_test(Y, X)\n",
    "print(wald_test_df)"
   ]
  },
  {
   "cell_type": "code",
   "execution_count": 8,
   "metadata": {},
   "outputs": [
    {
     "name": "stdout",
     "output_type": "stream",
     "text": [
      "       coeff chi-square statisitic      p-value\n",
      "0  intercept              0.432108     0.510956\n",
      "1          A               50.5303  1.17339e-12\n",
      "2         L1               1.40556     0.235795\n",
      "3         L2               2.15801     0.141828\n",
      "4         L3               1.91404     0.166516\n",
      "5         L4               2.87659    0.0898764\n",
      "6         L5              0.484766     0.486271\n",
      "7         L6               9.28446   0.00231106\n"
     ]
    }
   ],
   "source": [
    "###############################\n",
    "## return Score Test resutls ##\n",
    "###############################\n",
    "score_test_df = score_test(Y, X)\n",
    "print(score_test_df)"
   ]
  },
  {
   "cell_type": "code",
   "execution_count": 9,
   "metadata": {},
   "outputs": [
    {
     "name": "stdout",
     "output_type": "stream",
     "text": [
      "       coeff chi-square statisitic      p-value\n",
      "0  intercept              0.428548     0.512702\n",
      "1          A               50.1139  1.45073e-12\n",
      "2         L1               1.39398     0.237735\n",
      "3         L2               2.14023     0.143481\n",
      "4         L3               1.89826     0.168273\n",
      "5         L4               2.85288    0.0912103\n",
      "6         L5              0.480772     0.488073\n",
      "7         L6               9.20795   0.00240966\n"
     ]
    }
   ],
   "source": [
    "##########################################\n",
    "## return Likelihood Ratio Test results ##\n",
    "##########################################\n",
    "LR_test_df = LR_test(Y, X)\n",
    "print(LR_test_df)"
   ]
  }
 ],
 "metadata": {
  "kernelspec": {
   "display_name": "tf_gpu",
   "language": "python",
   "name": "tf_gpu"
  },
  "language_info": {
   "codemirror_mode": {
    "name": "ipython",
    "version": 3
   },
   "file_extension": ".py",
   "mimetype": "text/x-python",
   "name": "python",
   "nbconvert_exporter": "python",
   "pygments_lexer": "ipython3",
   "version": "3.7.4"
  }
 },
 "nbformat": 4,
 "nbformat_minor": 2
}
